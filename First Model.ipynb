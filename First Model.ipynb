{
 "cells": [
  {
   "cell_type": "markdown",
   "id": "ea23a647",
   "metadata": {},
   "source": [
    "# Step-by-Step Tutorial: Linear Regression & Logistic Regression Model Evaluation"
   ]
  },
  {
   "cell_type": "code",
   "execution_count": null,
   "id": "3380a5eb",
   "metadata": {
    "vscode": {
     "languageId": "bat"
    }
   },
   "outputs": [],
   "source": [
    "!pip install numpy pandas matplotlib seaborn scikit-learn"
   ]
  },
  {
   "cell_type": "markdown",
   "id": "326b8a8e",
   "metadata": {},
   "source": [
    "# 🏡 Predicting Housing Prices in California with Linear Regression\n",
    "\n",
    "**Problem Statement**  \n",
    "We aim to predict the median house value in California using Linear Regression based on various features such as:\n",
    "\n",
    "- Income  \n",
    "- Age of houses  \n",
    "- Number of rooms  \n",
    "- Geographic location  \n",
    "\n",
    "This is a regression problem because the target variable (`median_house_value`) is continuous, not categorical.\n",
    "\n",
    "We'll use a sample dataset (based on the one from GeeksforGeeks) that resembles the California Housing Prices Dataset originally from StatLib (also hosted on Kaggle and Scikit-learn).\n",
    "\n",
    "[Download the California Housing Dataset (CSV)](https://media.geeksforgeeks.org/wp-content/uploads/20240522145850/housing[1].csv)"
   ]
  },
  {
   "cell_type": "markdown",
   "id": "8b5d85fb",
   "metadata": {},
   "source": [
    "\n",
    "## 1. Import Required Libraries"
   ]
  },
  {
   "cell_type": "code",
   "execution_count": null,
   "id": "c2bb5843",
   "metadata": {
    "vscode": {
     "languageId": "markdown"
    }
   },
   "outputs": [],
   "source": [
    "import pandas as pd\n",
    "import numpy as np\n",
    "import matplotlib.pyplot as plt\n",
    "import seaborn as sns\n",
    "\n",
    "from sklearn.linear_model import LinearRegression\n",
    "from sklearn.model_selection import train_test_split\n",
    "from sklearn.metrics import mean_squared_error, r2_score\n"
   ]
  },
  {
   "cell_type": "markdown",
   "id": "0df507b7",
   "metadata": {},
   "source": [
    "## 2. Load Dataset\n",
    "\n",
    "We will load the California Housing dataset using `fetch_california_housing` from `sklearn.datasets` and convert it into a pandas DataFrame for easier manipulation and analysis."
   ]
  },
  {
   "cell_type": "code",
   "execution_count": null,
   "id": "cd999241",
   "metadata": {},
   "outputs": [],
   "source": [
    "url = \"https://raw.githubusercontent.com/ageron/handson-ml/master/datasets/housing/housing.csv\"\n",
    "data = pd.read_csv(url)\n",
    "data.head()\n"
   ]
  },
  {
   "cell_type": "markdown",
   "id": "c399d345",
   "metadata": {},
   "source": [
    "## 📊 Step 3: Exploratory Data Analysis (EDA)\n"
   ]
  },
  {
   "cell_type": "markdown",
   "id": "3d20e0e4",
   "metadata": {},
   "source": [
    "###  Basic Information"
   ]
  },
  {
   "cell_type": "code",
   "execution_count": null,
   "id": "b7a89506",
   "metadata": {},
   "outputs": [],
   "source": [
    "data.info()\n",
    "data.describe()\n"
   ]
  },
  {
   "cell_type": "markdown",
   "id": "34f78863",
   "metadata": {},
   "source": [
    "### Check for Missing Values\n"
   ]
  },
  {
   "cell_type": "code",
   "execution_count": null,
   "id": "e3853e41",
   "metadata": {},
   "outputs": [],
   "source": [
    "data.isnull().sum()\n"
   ]
  },
  {
   "cell_type": "markdown",
   "id": "f7cf99af",
   "metadata": {},
   "source": [
    "### Visualizations"
   ]
  },
  {
   "cell_type": "markdown",
   "id": "b1e01e5e",
   "metadata": {},
   "source": []
  },
  {
   "cell_type": "code",
   "execution_count": null,
   "id": "aefc9242",
   "metadata": {},
   "outputs": [],
   "source": [
    "plt.figure(figsize=(10, 8))\n",
    "sns.heatmap(data.corr(numeric_only=True), annot=True, cmap=\"coolwarm\")\n",
    "plt.title(\"Correlation Matrix of Features\")\n",
    "plt.show()\n"
   ]
  },
  {
   "cell_type": "markdown",
   "id": "40555f58",
   "metadata": {},
   "source": [
    "The heatmap above shows how different features in the housing dataset are related to each other. Each colored square represents the strength of the relationship (correlation) between two features. \n",
    "\n",
    "- **Dark red or blue colors** mean a strong relationship, while lighter colors mean a weaker relationship.\n",
    "- **Positive values** (closer to 1) mean that as one feature increases, the other tends to increase too.\n",
    "- **Negative values** (closer to -1) mean that as one feature increases, the other tends to decrease.\n",
    "\n",
    "This chart helps us quickly see which features might be important for predicting house prices. For example, if \"median_income\" has a strong positive correlation with \"median_house_value,\" it means higher income areas tend to have higher house prices."
   ]
  },
  {
   "cell_type": "markdown",
   "id": "8cbf1fbd",
   "metadata": {},
   "source": []
  },
  {
   "cell_type": "code",
   "execution_count": null,
   "id": "f3c306ef",
   "metadata": {},
   "outputs": [],
   "source": [
    "#🔹 Distribution of Median House Value\n",
    "plt.figure(figsize=(8, 6))\n",
    "sns.histplot(data[\"median_house_value\"], kde=True, color='skyblue')\n",
    "plt.title(\"Distribution of Median House Value\")\n",
    "plt.xlabel(\"House Value\")\n",
    "plt.ylabel(\"Frequency\")\n",
    "plt.grid(True)\n",
    "plt.show()"
   ]
  },
  {
   "cell_type": "markdown",
   "id": "be830343",
   "metadata": {},
   "source": [
    "The chart above shows the distribution of the median house values in California. It uses a histogram to display how frequently different house values occur in the dataset. The curve overlaid on the histogram represents the estimated probability density (KDE), helping to visualize the overall shape of the distribution. This plot helps us understand the range, central tendency, and skewness of housing prices in the region."
   ]
  },
  {
   "cell_type": "code",
   "execution_count": null,
   "id": "e8e5a850",
   "metadata": {},
   "outputs": [],
   "source": [
    "#🔹 Income vs. House Value\n",
    "plt.figure(figsize=(8, 6))\n",
    "sns.scatterplot(x='median_income', y='median_house_value', data=data, hue='ocean_proximity')\n",
    "plt.title(\"Income vs House Value\")\n",
    "plt.legend(title=\"Proximity\")\n",
    "plt.grid(True)\n",
    "plt.show()\n"
   ]
  },
  {
   "cell_type": "markdown",
   "id": "2ba76938",
   "metadata": {},
   "source": [
    "## 3. Preprocess Data\n",
    "Before training our model, we need to preprocess the data to ensure it is clean and suitable for analysis. This involves:\n",
    "\n",
    "- **Handling Missing Values:**  \n",
    "    The dataset contains some missing values in the `total_bedrooms` column. We remove any rows with missing data to avoid errors during model training.\n",
    "\n",
    "- **Dropping Categorical Columns:**  \n",
    "    The `ocean_proximity` column is categorical and not directly usable by linear regression without encoding. For simplicity, we drop this column for now.\n",
    "\n",
    "The following code performs these steps:\n",
    "\n",
    "- `data = data.dropna()` removes rows with missing values.\n",
    "- `data = data.drop(\"ocean_proximity\", axis=1)` drops the categorical column.\n",
    "\n",
    "This ensures our dataset contains only numerical features and no missing values, making it ready for splitting into features and target variables."
   ]
  },
  {
   "cell_type": "code",
   "execution_count": null,
   "id": "bf71c905",
   "metadata": {},
   "outputs": [],
   "source": [
    "data = data.dropna()  # drop missing values\n",
    "data = data.drop(\"ocean_proximity\", axis=1)  # drop categorical for now\n"
   ]
  },
  {
   "cell_type": "markdown",
   "id": "056727cd",
   "metadata": {},
   "source": [
    "## Step 4: Split into Features and Target\n"
   ]
  },
  {
   "cell_type": "code",
   "execution_count": null,
   "id": "759f4761",
   "metadata": {},
   "outputs": [],
   "source": [
    "X = data.drop(\"median_house_value\", axis=1)\n",
    "y = data[\"median_house_value\"]\n",
    "\n",
    "X_train, X_test, y_train, y_test = train_test_split(\n",
    "    X, y, test_size=0.2, random_state=42\n",
    ")\n"
   ]
  },
  {
   "cell_type": "markdown",
   "id": "870afb9a",
   "metadata": {},
   "source": [
    "### $Train the Model \n"
   ]
  },
  {
   "cell_type": "code",
   "execution_count": null,
   "id": "b50a2088",
   "metadata": {},
   "outputs": [],
   "source": [
    "model = LinearRegression()\n",
    "model.fit(X_train, y_train)\n"
   ]
  },
  {
   "cell_type": "markdown",
   "id": "5b629703",
   "metadata": {},
   "source": [
    "## Step 6: What is Linear Regression?\n",
    "\n",
    "Linear Regression fits a line (or hyperplane) to minimize the error between predicted and actual values.\n",
    "\n",
    "The general form of a linear regression model is:\n",
    "\n",
    "$$\n",
    "\\text{House Price} = w_0 + w_1 \\cdot \\text{Income} + w_2 \\cdot \\text{Rooms} + \\ldots + \\epsilon\n",
    "$$\n",
    "\n",
    "Where:\n",
    "- $w_0$ is the intercept,\n",
    "- $w_1, w_2, \\ldots$ are the coefficients for each feature,\n",
    "- $\\epsilon$ is the error term."
   ]
  },
  {
   "cell_type": "markdown",
   "id": "a356b294",
   "metadata": {},
   "source": [
    "## Step 7: Predictions and Evaluation\n",
    "\n",
    "In this step, we use our trained Linear Regression model to predict housing prices on the test set. We then evaluate the model's performance using metrics such as Mean Squared Error (MSE) and R² Score.\n",
    "\n",
    "- **Predictions:**  \n",
    "    The model predicts the median house values for the test data (`X_test`).\n",
    "\n",
    "- **Evaluation Metrics:**  \n",
    "    - **Mean Squared Error (MSE):** Measures the average squared difference between actual and predicted values. Lower values indicate better performance.\n",
    "    - **R² Score:** Represents the proportion of variance in the target variable explained by the model. Values closer to 1 indicate a better fit.\n",
    "\n",
    "\n",
    "\n",
    "## A scatter plot of actual vs. predicted values helps visualize the model's performance:"
   ]
  },
  {
   "cell_type": "code",
   "execution_count": null,
   "id": "408a788d",
   "metadata": {},
   "outputs": [],
   "source": [
    "plt.figure(figsize=(8, 6))\n",
    "plt.scatter(y_test, y_pred, alpha=0.5, label='Predicted vs Actual')\n",
    "plt.plot([y_test.min(), y_test.max()], [y_test.min(), y_test.max()], color='red', label='Perfect Prediction')\n",
    "plt.xlabel(\"Actual Median House Value\")\n",
    "plt.ylabel(\"Predicted Median House Value\")\n",
    "plt.title(\"Actual vs Predicted Median House Value\")\n",
    "plt.legend()\n",
    "plt.grid(True)\n",
    "plt.show()\n"
   ]
  },
  {
   "cell_type": "code",
   "execution_count": null,
   "id": "0aec8b32",
   "metadata": {},
   "outputs": [],
   "source": [
    "y_pred = model.predict(X_test)\n",
    "\n",
    "mse = mean_squared_error(y_test, y_pred)\n",
    "r2 = r2_score(y_test, y_pred)\n",
    "\n",
    "print(f\"Mean Squared Error: {mse:.2f}\")\n",
    "print(f\"R² Score: {r2:.2f}\")"
   ]
  },
  {
   "cell_type": "markdown",
   "id": "893689ca",
   "metadata": {},
   "source": [
    "## Step 9: Evaluate Model Performance (Regression)\n",
    "\n",
    "| Metric | Meaning |\n",
    "|--------|---------|\n",
    "| **MSE** | Measures average squared error between actual and predicted values. Lower is better. |\n",
    "| **R² (coefficient of determination)** | Measures how well the regression line fits the data (1 is perfect fit, 0 means no explanatory power). |"
   ]
  },
  {
   "cell_type": "code",
   "execution_count": null,
   "id": "98ff6ea6",
   "metadata": {},
   "outputs": [],
   "source": [
    "# Sample test: Predict median house value for a few custom samples\n",
    "sample_data = pd.DataFrame({\n",
    "    'longitude': [-122.0, -118.5],\n",
    "    'latitude': [37.5, 34.0],\n",
    "    'housing_median_age': [30, 15],\n",
    "    'total_rooms': [2000, 3500],\n",
    "    'total_bedrooms': [400, 700],\n",
    "    'population': [800, 1500],\n",
    "    'households': [300, 600],\n",
    "    'median_income': [5.0, 7.5]\n",
    "})\n",
    "\n",
    "sample_predictions = model.predict(sample_data)\n",
    "for i, pred in enumerate(sample_predictions):\n",
    "    print(f\"Sample {i+1} predicted median house value: ${pred:,.2f}\")"
   ]
  }
 ],
 "metadata": {
  "kernelspec": {
   "display_name": ".venv",
   "language": "python",
   "name": "python3"
  },
  "language_info": {
   "codemirror_mode": {
    "name": "ipython",
    "version": 3
   },
   "file_extension": ".py",
   "mimetype": "text/x-python",
   "name": "python",
   "nbconvert_exporter": "python",
   "pygments_lexer": "ipython3",
   "version": "3.11.9"
  }
 },
 "nbformat": 4,
 "nbformat_minor": 5
}
