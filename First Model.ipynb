{
 "cells": [
  {
   "cell_type": "markdown",
   "id": "ea23a647",
   "metadata": {},
   "source": [
    "# Step-by-Step Tutorial: Linear Regression & Logistic Regression Model Evaluation"
   ]
  },
  {
   "cell_type": "markdown",
   "id": "326b8a8e",
   "metadata": {},
   "source": [
    "## Linear Regression Example: Predicting House Prices\n",
    "\n",
    "### Problem Statement\n",
    "We aim to build a **Linear Regression** model to predict house prices based on features such as:\n",
    "- Square footage\n",
    "- Number of bedrooms\n",
    "- Location metrics\n",
    "\n",
    "This model will assist real estate agents and buyers in efficiently estimating property values.\n",
    "\n",
    "### Dataset Selection\n",
    "We will use the **California Housing Dataset**, an open-source dataset containing various housing attributes collected by the U.S. Census. \n",
    "\n",
    "[Download the California Housing Dataset (CSV)](https://media.geeksforgeeks.org/wp-content/uploads/20240522145850/housing[1].csv)"
   ]
  },
  {
   "cell_type": "markdown",
   "id": "8b5d85fb",
   "metadata": {},
   "source": [
    "\n",
    "## 1. Import Required Libraries"
   ]
  },
  {
   "cell_type": "code",
   "execution_count": null,
   "id": "c2bb5843",
   "metadata": {
    "vscode": {
     "languageId": "markdown"
    }
   },
   "outputs": [],
   "source": [
    "import numpy as np\n",
    "import pandas as pd\n",
    "import matplotlib.pyplot as plt\n",
    "import seaborn as sns\n",
    "from sklearn.model_selection import train_test_split\n",
    "from sklearn.linear_model import LinearRegression\n",
    "from sklearn.metrics import mean_absolute_error, mean_squared_error, r2_score\n"
   ]
  },
  {
   "cell_type": "markdown",
   "id": "0df507b7",
   "metadata": {},
   "source": [
    "## 2. Load Dataset\n",
    "\n",
    "We will load the California Housing dataset using `fetch_california_housing` from `sklearn.datasets` and convert it into a pandas DataFrame for easier manipulation and analysis."
   ]
  },
  {
   "cell_type": "code",
   "execution_count": null,
   "id": "cd999241",
   "metadata": {},
   "outputs": [],
   "source": [
    "from sklearn.datasets import fetch_california_housing\n",
    "\n",
    "# Load California Housing dataset\n",
    "data = pd.read_csv('./boston.csv')\n",
    "df = data.copy()\n",
    "df[\"Price\"] = data.target  # Target variable (median house price)\n"
   ]
  },
  {
   "cell_type": "markdown",
   "id": "84069734",
   "metadata": {},
   "source": []
  }
 ],
 "metadata": {
  "language_info": {
   "name": "python"
  }
 },
 "nbformat": 4,
 "nbformat_minor": 5
}
